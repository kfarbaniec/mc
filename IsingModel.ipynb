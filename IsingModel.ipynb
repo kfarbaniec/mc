{
 "cells": [
  {
   "cell_type": "markdown",
   "metadata": {},
   "source": [
    "## Ising model, Monte Carlo simulation - Metropolis algorithm\n",
    "    "
   ]
  },
  {
   "cell_type": "code",
   "execution_count": 13,
   "metadata": {},
   "outputs": [],
   "source": [
    "from __future__ import division\n",
    "import numpy as np\n",
    "import matplotlib.pyplot as plt\n",
    "from IPython.display import display, Math, Latex\n"
   ]
  },
  {
   "cell_type": "code",
   "execution_count": 71,
   "metadata": {},
   "outputs": [
    {
     "name": "stdout",
     "output_type": "stream",
     "text": [
      "Total energy - Hamiltonian defined as:\n"
     ]
    },
    {
     "data": {
      "text/latex": [
       "$$H = -J_{ij}\\sum_{<ij>}^{}s_{i}s_{j} $$"
      ],
      "text/plain": [
       "<IPython.core.display.Math object>"
      ]
     },
     "metadata": {},
     "output_type": "display_data"
    },
    {
     "name": "stdout",
     "output_type": "stream",
     "text": [
      "Where: \n"
     ]
    },
    {
     "data": {
      "text/latex": [
       "$$J_{ij} - \\text{Coupling parameter between adjecent atoms}$$"
      ],
      "text/plain": [
       "<IPython.core.display.Math object>"
      ]
     },
     "metadata": {},
     "output_type": "display_data"
    },
    {
     "data": {
      "text/latex": [
       "$$h - \\text{External Fiels Strength}$$"
      ],
      "text/plain": [
       "<IPython.core.display.Math object>"
      ]
     },
     "metadata": {},
     "output_type": "display_data"
    },
    {
     "data": {
      "text/latex": [
       "$$s_{i, j} - \\text{spin of particle}$$"
      ],
      "text/plain": [
       "<IPython.core.display.Math object>"
      ]
     },
     "metadata": {},
     "output_type": "display_data"
    }
   ],
   "source": [
    "%matplotlib inline\n",
    "print(\"Total energy - Hamiltonian defined as:\")\n",
    "display(Math(r'$H = -J_{ij}\\sum_{<ij>}^{}s_{i}s_{j} '))\n",
    "print(\"Where: \")\n",
    "display(Math(r'$J_{ij} - \\text{Coupling parameter between adjecent atoms}'))\n",
    "display(Math(r'$h - \\text{External Fiels Strength}'))\n",
    "display(Math(r'$s_{i, j} - \\text{spin of particle}'))\n",
    "             "
   ]
  },
  {
   "cell_type": "code",
   "execution_count": 48,
   "metadata": {},
   "outputs": [],
   "source": [
    "class IsingModel(object):\n",
    "    \n",
    "    def __init__(self,N):\n",
    "        self.N = N # grid size\n",
    "        self.J = 1.0\n",
    "        self.h = 0.0 # external field strength\n",
    "        \n",
    "        self.grid = 2*np.random.randint(2, size=(N,N))-1\n",
    "        self.E = 0.0\n",
    "        self.M = 0.0\n",
    "    def TotalEnergy(self, grid):\n",
    "        '''\n",
    "        TotalEnergy calculation\n",
    "        '''            \n",
    "        energy = 0.0\n",
    "        N = grid.shape[0]\n",
    "        for i in range(len(grid)):\n",
    "            for j in range(len(grid)):\n",
    "                S = grid[i,j]\n",
    "                nb = grid[(i+1)%N, j] + grid[i,(j+1)%N] + grid[(i-1)%N, j] + grid[i,(j-1)%N]\n",
    "                energy += -nb*S\n",
    "        return energy/4.0\n",
    "        \n",
    "    def MCStep(self, beta):\n",
    "        '''Monte Carlo step - Metropolis algorithm '''\n",
    "        for i in range(N):\n",
    "            for j in range(N):\n",
    "                    a = np.random.randint(0, N)\n",
    "                    b = np.random.randint(0, N)\n",
    "                    s =  self.grid[a, b]\n",
    "                    nb = self.grid[(a+1)%N,b] + self.grid[a,(b+1)%N] + self.grid[(a-1)%N,b] + self.grid[a,(b-1)%N]\n",
    "                    dE = 2*s*nb\n",
    "                    if dE < 0:\n",
    "                        s *= -1\n",
    "                    elif np.random.rand() < np.exp(-dE*beta):\n",
    "                        s *= -1\n",
    "                    self.grid[a, b] = s\n",
    "        return self.grid\n",
    "\n",
    "    def Magnetization(self):\n",
    "        '''\n",
    "        Calculate magnetization of configuration\n",
    "        '''\n",
    "        return np.sum(self.grid)"
   ]
  },
  {
   "cell_type": "code",
   "execution_count": 69,
   "metadata": {},
   "outputs": [],
   "source": [
    "def paint_grid(model, color):\n",
    "    fig, ax = plt.subplots()\n",
    "    ax.set_title(\"Snapshot of grid configuration\")\n",
    "    # im = ax.imshow(model.grid, cmap='YlGn')\n",
    "    im = ax.imshow(model.grid, cmap=color)\n",
    "    cbar = ax.figure.colorbar(im, ax=ax, )\n",
    "    cbar.ax.set_ylabel(\" \", rotation=-90, va=\"bottom\")\n",
    "    cbar.set_ticks([-1.0 , 1.0])\n",
    "    cbar.values = [-1.0, 1.0]\n",
    "    \n",
    "def plot_results(E, M, temperatures):\n",
    "    f = plt.figure(figsize=(18, 10)); # plot the calculated values    \n",
    "\n",
    "    sp =  f.add_subplot(1, 2, 1 );\n",
    "    \n",
    "    plt.plot(temperatures, E,'-o', color='#009900')\n",
    "    plt.xlabel(\"Temperature (T)\", fontsize=16);\n",
    "    plt.ylabel(\"Energy \", fontsize=16);         plt.axis('tight');\n",
    "\n",
    "    sp =  f.add_subplot(1, 2, 2 );\n",
    "    plt.plot(temperatures, np.absolute(M), '-o', color='#0033cc')\n",
    "    plt.xlabel(\"Temperature (T)\", fontsize=16); \n",
    "    plt.ylabel(\"Magnetization \", fontsize=16);   plt.axis('tight');\n",
    "\n"
   ]
  },
  {
   "cell_type": "code",
   "execution_count": 50,
   "metadata": {},
   "outputs": [],
   "source": [
    "temperature_points = 10\n",
    "N = 16\n",
    "\n",
    "# Allow the system to equilibriate\n",
    "equilibration_steps = 1000   \n",
    "mc_steps = 1000     #  number of MC sweeps for calculation\n",
    "\n",
    "temperature_boundary = [1.5, 3.5]\n",
    "temperatures = np.linspace(temperature_boundary[0], temperature_boundary[1], temperature_points)\n",
    "\n",
    "n = 1.0/(mc_steps*N*N)\n",
    "# normalize by number of samples"
   ]
  },
  {
   "cell_type": "code",
   "execution_count": 51,
   "metadata": {},
   "outputs": [
    {
     "name": "stdout",
     "output_type": "stream",
     "text": [
      "Start MC simulation for 10 temperatures\n",
      "Number of equilibration steps: 1000 and simulation steps: 1000\n",
      "temperature:1 of 10\n",
      "temperature:2 of 10\n",
      "temperature:3 of 10\n",
      "temperature:4 of 10\n",
      "temperature:5 of 10\n",
      "temperature:6 of 10\n",
      "temperature:7 of 10\n",
      "temperature:8 of 10\n",
      "temperature:9 of 10\n",
      "temperature:10 of 10\n"
     ]
    }
   ],
   "source": [
    "E = np.zeros(len(temperatures))\n",
    "M = np.zeros(len(temperatures))\n",
    "\n",
    "print(\"Start MC simulation for \" + str(len(temperatures)) + \" temperatures\")\n",
    "print(\"Number of equilibration steps: \" + str(equilibration_steps) + \" and simulation steps: \"+str(mc_steps))\n",
    "\n",
    "for idx, t in enumerate(temperatures):\n",
    "    it = 1.0/t\n",
    "    en = 0\n",
    "    mag = 0\n",
    "    grid = 0\n",
    "    acc_M = 0\n",
    "    acc_E = 0\n",
    "    m = IsingModel(N)\n",
    "    \n",
    "    print(\"temperature:\" + str(idx+1) + \" of \" + str(len(temperatures) ))\n",
    "    for i in range(equilibration_steps):\n",
    "        m.MCStep( it)\n",
    "        \n",
    "    for i in range(mc_steps):\n",
    "        m.MCStep(it)\n",
    "        acc_E += m.TotalEnergy(m.grid)\n",
    "        acc_M += m.Magnetization()\n",
    "        \n",
    "    E[idx] = n*acc_E\n",
    "    M[idx] = n*acc_M"
   ]
  },
  {
   "cell_type": "code",
   "execution_count": 70,
   "metadata": {},
   "outputs": [
    {
     "data": {
      "image/png": "[encoded data removed]",
      "text/plain": [
       "<Figure size 1296x720 with 2 Axes>"
      ]
     },
     "metadata": {},
     "output_type": "display_data"
    }
   ],
   "source": [
    "plot_results(E,M,temperatures)"
   ]
  }
 ],
 "metadata": {
  "kernelspec": {
   "display_name": "Python 3",
   "language": "python",
   "name": "python3"
  },
  "language_info": {
   "codemirror_mode": {
    "name": "ipython",
    "version": 3
   },
   "file_extension": ".py",
   "mimetype": "text/x-python",
   "name": "python",
   "nbconvert_exporter": "python",
   "pygments_lexer": "ipython3",
   "version": "3.6.5"
  }
 },
 "nbformat": 4,
 "nbformat_minor": 2
}
